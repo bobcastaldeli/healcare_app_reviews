{
 "cells": [
  {
   "cell_type": "code",
   "execution_count": 1,
   "metadata": {},
   "outputs": [],
   "source": [
    "import time\n",
    "import yaml\n",
    "import logging\n",
    "import numpy as np\n",
    "import pandas as pd\n",
    "import chardet"
   ]
  },
  {
   "cell_type": "code",
   "execution_count": 2,
   "metadata": {},
   "outputs": [],
   "source": [
    "logger = logging.getLogger(__name__)\n",
    "logging.basicConfig(level=logging.INFO)"
   ]
  },
  {
   "cell_type": "code",
   "execution_count": 3,
   "metadata": {},
   "outputs": [],
   "source": [
    "with open('../conf/base/parameters.yml', 'r') as f:\n",
    "    params = yaml.safe_load(f)"
   ]
  },
  {
   "cell_type": "markdown",
   "metadata": {},
   "source": [
    "# check encoding with chardet\n",
    "with open('../data/01_raw/appstore_reviews.csv', 'rb') as f:\n",
    "    result = chardet.detect(f.read())\n",
    "    print(result)"
   ]
  },
  {
   "cell_type": "markdown",
   "metadata": {},
   "source": [
    "# check encoding with chardet\n",
    "with open('../data/01_raw/googleplay_reviews.csv', 'rb') as f:\n",
    "    result = chardet.detect(f.read())\n",
    "    print(result)"
   ]
  },
  {
   "cell_type": "code",
   "execution_count": 4,
   "metadata": {},
   "outputs": [],
   "source": [
    "df = pd.read_csv('../data/03_primary/reviews.csv')"
   ]
  },
  {
   "cell_type": "code",
   "execution_count": 5,
   "metadata": {},
   "outputs": [
    {
     "data": {
      "text/plain": [
       "137263"
      ]
     },
     "execution_count": 5,
     "metadata": {},
     "output_type": "execute_result"
    }
   ],
   "source": [
    "len(df)"
   ]
  },
  {
   "cell_type": "code",
   "execution_count": 6,
   "metadata": {},
   "outputs": [
    {
     "data": {
      "text/html": [
       "<div>\n",
       "<style scoped>\n",
       "    .dataframe tbody tr th:only-of-type {\n",
       "        vertical-align: middle;\n",
       "    }\n",
       "\n",
       "    .dataframe tbody tr th {\n",
       "        vertical-align: top;\n",
       "    }\n",
       "\n",
       "    .dataframe thead th {\n",
       "        text-align: right;\n",
       "    }\n",
       "</style>\n",
       "<table border=\"1\" class=\"dataframe\">\n",
       "  <thead>\n",
       "    <tr style=\"text-align: right;\">\n",
       "      <th></th>\n",
       "      <th>userName</th>\n",
       "      <th>date</th>\n",
       "      <th>company</th>\n",
       "      <th>store_id</th>\n",
       "      <th>review</th>\n",
       "      <th>rating</th>\n",
       "    </tr>\n",
       "  </thead>\n",
       "  <tbody>\n",
       "    <tr>\n",
       "      <th>0</th>\n",
       "      <td>ferrerobia</td>\n",
       "      <td>2019-11-12 14:47:59</td>\n",
       "      <td>amil</td>\n",
       "      <td>appstore</td>\n",
       "      <td>O app era ótimo, super prático, mas após a ult...</td>\n",
       "      <td>3</td>\n",
       "    </tr>\n",
       "    <tr>\n",
       "      <th>1</th>\n",
       "      <td>|0|4</td>\n",
       "      <td>2021-01-28 17:15:34</td>\n",
       "      <td>amil</td>\n",
       "      <td>appstore</td>\n",
       "      <td>Cada vez que vocês lançam uma atualização, a c...</td>\n",
       "      <td>3</td>\n",
       "    </tr>\n",
       "    <tr>\n",
       "      <th>2</th>\n",
       "      <td>Safecracker</td>\n",
       "      <td>2017-09-14 23:24:22</td>\n",
       "      <td>amil</td>\n",
       "      <td>appstore</td>\n",
       "      <td>Depois que reuniu o plano dental também, ficou...</td>\n",
       "      <td>5</td>\n",
       "    </tr>\n",
       "    <tr>\n",
       "      <th>3</th>\n",
       "      <td>barbaraxenon</td>\n",
       "      <td>2018-11-14 09:44:41</td>\n",
       "      <td>amil</td>\n",
       "      <td>appstore</td>\n",
       "      <td>O meu atualizou sozinho está uma porcaria . Nã...</td>\n",
       "      <td>1</td>\n",
       "    </tr>\n",
       "    <tr>\n",
       "      <th>4</th>\n",
       "      <td>Ed_Alemao</td>\n",
       "      <td>2022-08-17 00:25:38</td>\n",
       "      <td>amil</td>\n",
       "      <td>appstore</td>\n",
       "      <td>Simplesmente não funciona !!! Não carrega e fe...</td>\n",
       "      <td>1</td>\n",
       "    </tr>\n",
       "    <tr>\n",
       "      <th>5</th>\n",
       "      <td>bianca guerra</td>\n",
       "      <td>2022-07-02 19:38:51</td>\n",
       "      <td>amil</td>\n",
       "      <td>appstore</td>\n",
       "      <td>Solicitar reembolso pelo app geralmente eh bem...</td>\n",
       "      <td>1</td>\n",
       "    </tr>\n",
       "    <tr>\n",
       "      <th>6</th>\n",
       "      <td>QueziaCout</td>\n",
       "      <td>2022-08-16 18:56:09</td>\n",
       "      <td>amil</td>\n",
       "      <td>appstore</td>\n",
       "      <td>Não consigo abrir o app desde janeiro! \\nClico...</td>\n",
       "      <td>2</td>\n",
       "    </tr>\n",
       "    <tr>\n",
       "      <th>7</th>\n",
       "      <td>malumazza1234</td>\n",
       "      <td>2020-01-22 02:08:36</td>\n",
       "      <td>amil</td>\n",
       "      <td>appstore</td>\n",
       "      <td>esse app não abre de jeito nenhum! Eu quero ma...</td>\n",
       "      <td>1</td>\n",
       "    </tr>\n",
       "    <tr>\n",
       "      <th>8</th>\n",
       "      <td>lickamada</td>\n",
       "      <td>2023-01-31 10:51:37</td>\n",
       "      <td>amil</td>\n",
       "      <td>appstore</td>\n",
       "      <td>Lixo de App! Não consertaram nada! Há mais de ...</td>\n",
       "      <td>1</td>\n",
       "    </tr>\n",
       "    <tr>\n",
       "      <th>9</th>\n",
       "      <td>surubin</td>\n",
       "      <td>2022-08-24 12:03:26</td>\n",
       "      <td>amil</td>\n",
       "      <td>appstore</td>\n",
       "      <td>Era muito bom. agora nem abre, pica e desapare...</td>\n",
       "      <td>1</td>\n",
       "    </tr>\n",
       "  </tbody>\n",
       "</table>\n",
       "</div>"
      ],
      "text/plain": [
       "        userName                 date company  store_id  \\\n",
       "0     ferrerobia  2019-11-12 14:47:59    amil  appstore   \n",
       "1           |0|4  2021-01-28 17:15:34    amil  appstore   \n",
       "2    Safecracker  2017-09-14 23:24:22    amil  appstore   \n",
       "3   barbaraxenon  2018-11-14 09:44:41    amil  appstore   \n",
       "4      Ed_Alemao  2022-08-17 00:25:38    amil  appstore   \n",
       "5  bianca guerra  2022-07-02 19:38:51    amil  appstore   \n",
       "6     QueziaCout  2022-08-16 18:56:09    amil  appstore   \n",
       "7  malumazza1234  2020-01-22 02:08:36    amil  appstore   \n",
       "8      lickamada  2023-01-31 10:51:37    amil  appstore   \n",
       "9        surubin  2022-08-24 12:03:26    amil  appstore   \n",
       "\n",
       "                                              review  rating  \n",
       "0  O app era ótimo, super prático, mas após a ult...       3  \n",
       "1  Cada vez que vocês lançam uma atualização, a c...       3  \n",
       "2  Depois que reuniu o plano dental também, ficou...       5  \n",
       "3  O meu atualizou sozinho está uma porcaria . Nã...       1  \n",
       "4  Simplesmente não funciona !!! Não carrega e fe...       1  \n",
       "5  Solicitar reembolso pelo app geralmente eh bem...       1  \n",
       "6  Não consigo abrir o app desde janeiro! \\nClico...       2  \n",
       "7  esse app não abre de jeito nenhum! Eu quero ma...       1  \n",
       "8  Lixo de App! Não consertaram nada! Há mais de ...       1  \n",
       "9  Era muito bom. agora nem abre, pica e desapare...       1  "
      ]
     },
     "execution_count": 6,
     "metadata": {},
     "output_type": "execute_result"
    }
   ],
   "source": [
    "df.head(10)"
   ]
  },
  {
   "cell_type": "code",
   "execution_count": 8,
   "metadata": {},
   "outputs": [
    {
     "data": {
      "text/plain": [
       "'review'"
      ]
     },
     "execution_count": 8,
     "metadata": {},
     "output_type": "execute_result"
    }
   ],
   "source": [
    "params[\"textcolumn\"]"
   ]
  },
  {
   "cell_type": "code",
   "execution_count": 9,
   "metadata": {},
   "outputs": [],
   "source": [
    "# create a pythonic code to apply all the cleaning steps in text column in the dataframe\n",
    "def clean_text(dataframe, text_column):\n",
    "    dataframe[text_column] = dataframe[text_column].str.lower()\n",
    "    dataframe[text_column] = dataframe[text_column].str.replace(r'[^\\w\\s]+', '')\n",
    "    dataframe[text_column] = dataframe[text_column].str.replace(r'\\n', ' ')\n",
    "    dataframe[text_column] = dataframe[text_column].astype(str)\n",
    "    return dataframe"
   ]
  },
  {
   "cell_type": "code",
   "execution_count": 10,
   "metadata": {},
   "outputs": [
    {
     "name": "stderr",
     "output_type": "stream",
     "text": [
      "/tmp/ipykernel_1334/2836299798.py:4: FutureWarning: The default value of regex will change from True to False in a future version.\n",
      "  dataframe[params[\"textcolumn\"]] = dataframe[params[\"textcolumn\"]].str.replace(r'[^\\w\\s]+', '')\n",
      "/tmp/ipykernel_1334/2836299798.py:5: FutureWarning: The default value of regex will change from True to False in a future version.\n",
      "  dataframe[params[\"textcolumn\"]] = dataframe[params[\"textcolumn\"]].str.replace(r'\\n', ' ')\n"
     ]
    }
   ],
   "source": [
    "df = clean_text(df, params[\"textcolumn\"])"
   ]
  },
  {
   "cell_type": "code",
   "execution_count": 11,
   "metadata": {},
   "outputs": [
    {
     "data": {
      "text/html": [
       "<div>\n",
       "<style scoped>\n",
       "    .dataframe tbody tr th:only-of-type {\n",
       "        vertical-align: middle;\n",
       "    }\n",
       "\n",
       "    .dataframe tbody tr th {\n",
       "        vertical-align: top;\n",
       "    }\n",
       "\n",
       "    .dataframe thead th {\n",
       "        text-align: right;\n",
       "    }\n",
       "</style>\n",
       "<table border=\"1\" class=\"dataframe\">\n",
       "  <thead>\n",
       "    <tr style=\"text-align: right;\">\n",
       "      <th></th>\n",
       "      <th>userName</th>\n",
       "      <th>date</th>\n",
       "      <th>company</th>\n",
       "      <th>store_id</th>\n",
       "      <th>review</th>\n",
       "      <th>rating</th>\n",
       "    </tr>\n",
       "  </thead>\n",
       "  <tbody>\n",
       "    <tr>\n",
       "      <th>0</th>\n",
       "      <td>ferrerobia</td>\n",
       "      <td>2019-11-12 14:47:59</td>\n",
       "      <td>amil</td>\n",
       "      <td>appstore</td>\n",
       "      <td>o app era ótimo super prático mas após a ultim...</td>\n",
       "      <td>3</td>\n",
       "    </tr>\n",
       "    <tr>\n",
       "      <th>1</th>\n",
       "      <td>|0|4</td>\n",
       "      <td>2021-01-28 17:15:34</td>\n",
       "      <td>amil</td>\n",
       "      <td>appstore</td>\n",
       "      <td>cada vez que vocês lançam uma atualização a co...</td>\n",
       "      <td>3</td>\n",
       "    </tr>\n",
       "    <tr>\n",
       "      <th>2</th>\n",
       "      <td>Safecracker</td>\n",
       "      <td>2017-09-14 23:24:22</td>\n",
       "      <td>amil</td>\n",
       "      <td>appstore</td>\n",
       "      <td>depois que reuniu o plano dental também ficou ...</td>\n",
       "      <td>5</td>\n",
       "    </tr>\n",
       "    <tr>\n",
       "      <th>3</th>\n",
       "      <td>barbaraxenon</td>\n",
       "      <td>2018-11-14 09:44:41</td>\n",
       "      <td>amil</td>\n",
       "      <td>appstore</td>\n",
       "      <td>o meu atualizou sozinho está uma porcaria  não...</td>\n",
       "      <td>1</td>\n",
       "    </tr>\n",
       "    <tr>\n",
       "      <th>4</th>\n",
       "      <td>Ed_Alemao</td>\n",
       "      <td>2022-08-17 00:25:38</td>\n",
       "      <td>amil</td>\n",
       "      <td>appstore</td>\n",
       "      <td>simplesmente não funciona  não carrega e fecha...</td>\n",
       "      <td>1</td>\n",
       "    </tr>\n",
       "    <tr>\n",
       "      <th>5</th>\n",
       "      <td>bianca guerra</td>\n",
       "      <td>2022-07-02 19:38:51</td>\n",
       "      <td>amil</td>\n",
       "      <td>appstore</td>\n",
       "      <td>solicitar reembolso pelo app geralmente eh bem...</td>\n",
       "      <td>1</td>\n",
       "    </tr>\n",
       "    <tr>\n",
       "      <th>6</th>\n",
       "      <td>QueziaCout</td>\n",
       "      <td>2022-08-16 18:56:09</td>\n",
       "      <td>amil</td>\n",
       "      <td>appstore</td>\n",
       "      <td>não consigo abrir o app desde janeiro  clico p...</td>\n",
       "      <td>2</td>\n",
       "    </tr>\n",
       "    <tr>\n",
       "      <th>7</th>\n",
       "      <td>malumazza1234</td>\n",
       "      <td>2020-01-22 02:08:36</td>\n",
       "      <td>amil</td>\n",
       "      <td>appstore</td>\n",
       "      <td>esse app não abre de jeito nenhum eu quero mar...</td>\n",
       "      <td>1</td>\n",
       "    </tr>\n",
       "    <tr>\n",
       "      <th>8</th>\n",
       "      <td>lickamada</td>\n",
       "      <td>2023-01-31 10:51:37</td>\n",
       "      <td>amil</td>\n",
       "      <td>appstore</td>\n",
       "      <td>lixo de app não consertaram nada há mais de 1 ...</td>\n",
       "      <td>1</td>\n",
       "    </tr>\n",
       "    <tr>\n",
       "      <th>9</th>\n",
       "      <td>surubin</td>\n",
       "      <td>2022-08-24 12:03:26</td>\n",
       "      <td>amil</td>\n",
       "      <td>appstore</td>\n",
       "      <td>era muito bom agora nem abre pica e desaparece...</td>\n",
       "      <td>1</td>\n",
       "    </tr>\n",
       "  </tbody>\n",
       "</table>\n",
       "</div>"
      ],
      "text/plain": [
       "        userName                 date company  store_id  \\\n",
       "0     ferrerobia  2019-11-12 14:47:59    amil  appstore   \n",
       "1           |0|4  2021-01-28 17:15:34    amil  appstore   \n",
       "2    Safecracker  2017-09-14 23:24:22    amil  appstore   \n",
       "3   barbaraxenon  2018-11-14 09:44:41    amil  appstore   \n",
       "4      Ed_Alemao  2022-08-17 00:25:38    amil  appstore   \n",
       "5  bianca guerra  2022-07-02 19:38:51    amil  appstore   \n",
       "6     QueziaCout  2022-08-16 18:56:09    amil  appstore   \n",
       "7  malumazza1234  2020-01-22 02:08:36    amil  appstore   \n",
       "8      lickamada  2023-01-31 10:51:37    amil  appstore   \n",
       "9        surubin  2022-08-24 12:03:26    amil  appstore   \n",
       "\n",
       "                                              review  rating  \n",
       "0  o app era ótimo super prático mas após a ultim...       3  \n",
       "1  cada vez que vocês lançam uma atualização a co...       3  \n",
       "2  depois que reuniu o plano dental também ficou ...       5  \n",
       "3  o meu atualizou sozinho está uma porcaria  não...       1  \n",
       "4  simplesmente não funciona  não carrega e fecha...       1  \n",
       "5  solicitar reembolso pelo app geralmente eh bem...       1  \n",
       "6  não consigo abrir o app desde janeiro  clico p...       2  \n",
       "7  esse app não abre de jeito nenhum eu quero mar...       1  \n",
       "8  lixo de app não consertaram nada há mais de 1 ...       1  \n",
       "9  era muito bom agora nem abre pica e desaparece...       1  "
      ]
     },
     "execution_count": 11,
     "metadata": {},
     "output_type": "execute_result"
    }
   ],
   "source": [
    "df.head(10)"
   ]
  },
  {
   "cell_type": "code",
   "execution_count": null,
   "metadata": {},
   "outputs": [],
   "source": []
  }
 ],
 "metadata": {
  "kernelspec": {
   "display_name": ".healthcare_reviews",
   "language": "python",
   "name": "python3"
  },
  "language_info": {
   "codemirror_mode": {
    "name": "ipython",
    "version": 3
   },
   "file_extension": ".py",
   "mimetype": "text/x-python",
   "name": "python",
   "nbconvert_exporter": "python",
   "pygments_lexer": "ipython3",
   "version": "3.8.10"
  },
  "orig_nbformat": 4
 },
 "nbformat": 4,
 "nbformat_minor": 2
}
