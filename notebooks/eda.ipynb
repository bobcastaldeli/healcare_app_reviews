{
 "cells": [
  {
   "cell_type": "code",
   "execution_count": 1,
   "metadata": {},
   "outputs": [],
   "source": [
    "import time\n",
    "import yaml\n",
    "import logging\n",
    "import numpy as np\n",
    "import pandas as pd\n",
    "import chardet\n",
    "from google_play_scraper import app, Sort, reviews_all"
   ]
  },
  {
   "cell_type": "code",
   "execution_count": 2,
   "metadata": {},
   "outputs": [],
   "source": [
    "logger = logging.getLogger(__name__)\n",
    "logging.basicConfig(level=logging.INFO)"
   ]
  },
  {
   "cell_type": "code",
   "execution_count": 3,
   "metadata": {},
   "outputs": [],
   "source": [
    "with open('../conf/base/parameters.yml', 'r') as f:\n",
    "    params = yaml.safe_load(f)"
   ]
  },
  {
   "cell_type": "code",
   "execution_count": 4,
   "metadata": {},
   "outputs": [
    {
     "name": "stdout",
     "output_type": "stream",
     "text": [
      "{'encoding': 'Windows-1254', 'confidence': 0.5160149654328776, 'language': 'Turkish'}\n"
     ]
    }
   ],
   "source": [
    "# check encoding with chardet\n",
    "with open('../data/01_raw/appstore_reviews.csv', 'rb') as f:\n",
    "    result = chardet.detect(f.read())\n",
    "    print(result)"
   ]
  },
  {
   "cell_type": "code",
   "execution_count": 5,
   "metadata": {},
   "outputs": [],
   "source": [
    "df_apple = pd.read_csv('../data/01_raw/appstore_reviews.csv')"
   ]
  },
  {
   "cell_type": "code",
   "execution_count": 6,
   "metadata": {},
   "outputs": [],
   "source": [
    "googleplayapps = params['googleplayapps']"
   ]
  },
  {
   "cell_type": "code",
   "execution_count": 7,
   "metadata": {},
   "outputs": [
    {
     "name": "stderr",
     "output_type": "stream",
     "text": [
      "INFO:__main__:Downloading reviews for br.com.amil.beneficiarios\n",
      "INFO:__main__:Downloading reviews for br.com.bradseg.segurobradescosaude\n",
      "INFO:__main__:Downloading reviews for br.com.portoseguro.saudeodonto\n",
      "INFO:__main__:Downloading reviews for br.com.sulamerica.sam.saude\n",
      "INFO:__main__:Downloading reviews for br.com.app.centralnacionalunimed\n"
     ]
    }
   ],
   "source": [
    "reviews_df = pd.DataFrame()\n",
    "for app in googleplayapps:\n",
    "    logger.info(f\"Downloading reviews for {app}\")\n",
    "    rvws = reviews_all(\n",
    "        app_id=app,\n",
    "        sleep_milliseconds=1,\n",
    "        country=\"br\",\n",
    "        lang=\"pt\",\n",
    "        sort=Sort.NEWEST,\n",
    "    )\n",
    "\n",
    "    rvws_df = pd.DataFrame(rvws)\n",
    "    rvws_df['storeid'] = app\n",
    "    reviews_df = pd.concat([reviews_df, rvws_df])\n",
    "    time.sleep(120)\n"
   ]
  },
  {
   "cell_type": "code",
   "execution_count": 8,
   "metadata": {},
   "outputs": [
    {
     "data": {
      "text/html": [
       "<div>\n",
       "<style scoped>\n",
       "    .dataframe tbody tr th:only-of-type {\n",
       "        vertical-align: middle;\n",
       "    }\n",
       "\n",
       "    .dataframe tbody tr th {\n",
       "        vertical-align: top;\n",
       "    }\n",
       "\n",
       "    .dataframe thead th {\n",
       "        text-align: right;\n",
       "    }\n",
       "</style>\n",
       "<table border=\"1\" class=\"dataframe\">\n",
       "  <thead>\n",
       "    <tr style=\"text-align: right;\">\n",
       "      <th></th>\n",
       "      <th>reviewId</th>\n",
       "      <th>userName</th>\n",
       "      <th>userImage</th>\n",
       "      <th>content</th>\n",
       "      <th>score</th>\n",
       "      <th>thumbsUpCount</th>\n",
       "      <th>reviewCreatedVersion</th>\n",
       "      <th>at</th>\n",
       "      <th>replyContent</th>\n",
       "      <th>repliedAt</th>\n",
       "      <th>storeid</th>\n",
       "    </tr>\n",
       "  </thead>\n",
       "  <tbody>\n",
       "    <tr>\n",
       "      <th>0</th>\n",
       "      <td>160e74bc-ba41-492e-bc81-7abcfd6ffa2d</td>\n",
       "      <td>Audrey S A</td>\n",
       "      <td>https://play-lh.googleusercontent.com/a/AGNmyx...</td>\n",
       "      <td>Tem atendido bem as minhas expectativas e func...</td>\n",
       "      <td>5</td>\n",
       "      <td>0</td>\n",
       "      <td>None</td>\n",
       "      <td>2023-03-07 14:40:55</td>\n",
       "      <td>Olá, Audrey. Que alegria saber que sua experiê...</td>\n",
       "      <td>2023-03-07 14:48:22</td>\n",
       "      <td>br.com.amil.beneficiarios</td>\n",
       "    </tr>\n",
       "    <tr>\n",
       "      <th>1</th>\n",
       "      <td>6ba884f2-a30a-414d-bf08-cfae4f69f416</td>\n",
       "      <td>Antonio Jose Magalhaes de Oliveira</td>\n",
       "      <td>https://play-lh.googleusercontent.com/a/AGNmyx...</td>\n",
       "      <td>O aplicativo em geral é bom.</td>\n",
       "      <td>5</td>\n",
       "      <td>0</td>\n",
       "      <td>4.55.01</td>\n",
       "      <td>2023-03-07 12:43:55</td>\n",
       "      <td>Olá, Antonio. Que alegria saber que sua experi...</td>\n",
       "      <td>2023-03-07 14:43:31</td>\n",
       "      <td>br.com.amil.beneficiarios</td>\n",
       "    </tr>\n",
       "    <tr>\n",
       "      <th>2</th>\n",
       "      <td>e0abf3e1-77de-4465-a557-920d41ac2eaf</td>\n",
       "      <td>Célia M.</td>\n",
       "      <td>https://play-lh.googleusercontent.com/a-/ACB-R...</td>\n",
       "      <td>No momento estou me tratando no COI. O plano d...</td>\n",
       "      <td>5</td>\n",
       "      <td>0</td>\n",
       "      <td>4.55.01</td>\n",
       "      <td>2023-03-07 10:51:32</td>\n",
       "      <td>Olá, Célia. Que alegria saber que sua experiên...</td>\n",
       "      <td>2023-03-07 14:43:54</td>\n",
       "      <td>br.com.amil.beneficiarios</td>\n",
       "    </tr>\n",
       "    <tr>\n",
       "      <th>3</th>\n",
       "      <td>f8bf1e37-eeea-4120-8f5e-ef487d45ebdf</td>\n",
       "      <td>Regiane Aparecida</td>\n",
       "      <td>https://play-lh.googleusercontent.com/a/AGNmyx...</td>\n",
       "      <td>O APP é horrível, sempre está em manutenção ou...</td>\n",
       "      <td>1</td>\n",
       "      <td>0</td>\n",
       "      <td>4.55.01</td>\n",
       "      <td>2023-03-07 09:38:30</td>\n",
       "      <td>Olá, Regiane. Obrigado por sinalizar. Nos envi...</td>\n",
       "      <td>2023-03-07 10:03:00</td>\n",
       "      <td>br.com.amil.beneficiarios</td>\n",
       "    </tr>\n",
       "    <tr>\n",
       "      <th>4</th>\n",
       "      <td>c58d5f75-9b92-4c7f-a24b-560c38954b3a</td>\n",
       "      <td>raimunda maria sales</td>\n",
       "      <td>https://play-lh.googleusercontent.com/a/AGNmyx...</td>\n",
       "      <td>Pessimo cheio de bug, nada interagivo para ter...</td>\n",
       "      <td>1</td>\n",
       "      <td>0</td>\n",
       "      <td>4.55.01</td>\n",
       "      <td>2023-03-07 08:22:06</td>\n",
       "      <td>Olá, Raimunda. Obrigado por sinalizar. Nos env...</td>\n",
       "      <td>2023-03-07 09:56:22</td>\n",
       "      <td>br.com.amil.beneficiarios</td>\n",
       "    </tr>\n",
       "  </tbody>\n",
       "</table>\n",
       "</div>"
      ],
      "text/plain": [
       "                               reviewId                            userName  \\\n",
       "0  160e74bc-ba41-492e-bc81-7abcfd6ffa2d                          Audrey S A   \n",
       "1  6ba884f2-a30a-414d-bf08-cfae4f69f416  Antonio Jose Magalhaes de Oliveira   \n",
       "2  e0abf3e1-77de-4465-a557-920d41ac2eaf                            Célia M.   \n",
       "3  f8bf1e37-eeea-4120-8f5e-ef487d45ebdf                   Regiane Aparecida   \n",
       "4  c58d5f75-9b92-4c7f-a24b-560c38954b3a                raimunda maria sales   \n",
       "\n",
       "                                           userImage  \\\n",
       "0  https://play-lh.googleusercontent.com/a/AGNmyx...   \n",
       "1  https://play-lh.googleusercontent.com/a/AGNmyx...   \n",
       "2  https://play-lh.googleusercontent.com/a-/ACB-R...   \n",
       "3  https://play-lh.googleusercontent.com/a/AGNmyx...   \n",
       "4  https://play-lh.googleusercontent.com/a/AGNmyx...   \n",
       "\n",
       "                                             content  score  thumbsUpCount  \\\n",
       "0  Tem atendido bem as minhas expectativas e func...      5              0   \n",
       "1                       O aplicativo em geral é bom.      5              0   \n",
       "2  No momento estou me tratando no COI. O plano d...      5              0   \n",
       "3  O APP é horrível, sempre está em manutenção ou...      1              0   \n",
       "4  Pessimo cheio de bug, nada interagivo para ter...      1              0   \n",
       "\n",
       "  reviewCreatedVersion                  at  \\\n",
       "0                 None 2023-03-07 14:40:55   \n",
       "1              4.55.01 2023-03-07 12:43:55   \n",
       "2              4.55.01 2023-03-07 10:51:32   \n",
       "3              4.55.01 2023-03-07 09:38:30   \n",
       "4              4.55.01 2023-03-07 08:22:06   \n",
       "\n",
       "                                        replyContent           repliedAt  \\\n",
       "0  Olá, Audrey. Que alegria saber que sua experiê... 2023-03-07 14:48:22   \n",
       "1  Olá, Antonio. Que alegria saber que sua experi... 2023-03-07 14:43:31   \n",
       "2  Olá, Célia. Que alegria saber que sua experiên... 2023-03-07 14:43:54   \n",
       "3  Olá, Regiane. Obrigado por sinalizar. Nos envi... 2023-03-07 10:03:00   \n",
       "4  Olá, Raimunda. Obrigado por sinalizar. Nos env... 2023-03-07 09:56:22   \n",
       "\n",
       "                     storeid  \n",
       "0  br.com.amil.beneficiarios  \n",
       "1  br.com.amil.beneficiarios  \n",
       "2  br.com.amil.beneficiarios  \n",
       "3  br.com.amil.beneficiarios  \n",
       "4  br.com.amil.beneficiarios  "
      ]
     },
     "execution_count": 8,
     "metadata": {},
     "output_type": "execute_result"
    }
   ],
   "source": [
    "reviews_df.head()"
   ]
  },
  {
   "cell_type": "code",
   "execution_count": 9,
   "metadata": {},
   "outputs": [
    {
     "data": {
      "text/plain": [
       "br.com.amil.beneficiarios             73330\n",
       "br.com.sulamerica.sam.saude           28497\n",
       "br.com.bradseg.segurobradescosaude    16041\n",
       "br.com.portoseguro.saudeodonto         3627\n",
       "br.com.app.centralnacionalunimed       2834\n",
       "Name: storeid, dtype: int64"
      ]
     },
     "execution_count": 9,
     "metadata": {},
     "output_type": "execute_result"
    }
   ],
   "source": [
    "reviews_df['storeid'].value_counts()"
   ]
  },
  {
   "cell_type": "code",
   "execution_count": null,
   "metadata": {},
   "outputs": [],
   "source": []
  }
 ],
 "metadata": {
  "kernelspec": {
   "display_name": ".healthcare_reviews",
   "language": "python",
   "name": "python3"
  },
  "language_info": {
   "codemirror_mode": {
    "name": "ipython",
    "version": 3
   },
   "file_extension": ".py",
   "mimetype": "text/x-python",
   "name": "python",
   "nbconvert_exporter": "python",
   "pygments_lexer": "ipython3",
   "version": "3.8.10"
  },
  "orig_nbformat": 4
 },
 "nbformat": 4,
 "nbformat_minor": 2
}
